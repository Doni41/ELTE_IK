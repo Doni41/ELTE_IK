{
 "cells": [
  {
   "cell_type": "markdown",
   "metadata": {},
   "source": [
    "# Nev: Hegyesi Akos\n",
    "# NEPTUN kod: HSFPOJ"
   ]
  },
  {
   "cell_type": "markdown",
   "metadata": {},
   "source": [
    "# One Time Pad"
   ]
  },
  {
   "cell_type": "markdown",
   "metadata": {},
   "source": [
    "## A következő titkosítási módszert szeretnénk megtámadni.\n",
    "\n",
    "### A plaintext-tér a 200 byte hosszú sztringek halmaza. A kulcstér szintén a 200 byte hosszú kulcsok halmaza, viszont ezek közül nem egyenletesen véletlenül választunk, hanem úgy generáljuk a kulcsot, hogy minden bitje 55%-kal 0, 45%-kal 1 (tehát várhatóan kb. az 1600 bitből 880 db 0 és csak 720 db egyes).\n",
    "\n",
    "### A titkosítás ezután \"sima bitenkénti xor\", ld. pl. az órai encrypt_xor függvényt.\n",
    "\n",
    "### A cél, hogy a következő játékot minél jobb valószínűséggel megnyerjük: \n",
    "\n",
    "### a \"csupa A\" és \"csupa B\", azaz az\n",
    "\n",
    "### m0 = \"A\" * 200\n",
    "### m1 = \"B\" * 200\n",
    "\n",
    "### sztringek közül valamelyiket véletlen kulccsal letitkosították. Meg kell tippelnünk, melyiket. Találjunk ki olyan módszert, mely az esetek minél nagyobb hányadában jól tippel. "
   ]
  },
  {
   "cell_type": "code",
   "execution_count": 1,
   "metadata": {},
   "outputs": [],
   "source": [
    "# One-time pad -> ez adja az alap otletet\n",
    "def encrypt_xor(plain, key):\n",
    "    n = min(len(plain), len(key))\n",
    "    ascii_codes = [ord(plain[i]) ^ ord(key[i])  for i in range(n)]\n",
    "    return ''.join([chr(x) for x in ascii_codes])"
   ]
  },
  {
   "cell_type": "code",
   "execution_count": 2,
   "metadata": {},
   "outputs": [],
   "source": [
    "# Fontos fogalom lesz itt a predikalhatosag\n",
    "\n",
    "# Predikalhatosag alatt azt ertjuk, hogy letezik olyan algoritmus, amely Xn valoszinusegi vektorvaltozo tetszoleges\n",
    "#   j bites prefixe alapjan a (j+1)-edik bitet nem elhanyagolhato valoszinuseggel predikalni kepes (1 <= j < m(n))\n",
    "\n",
    "# mivel itt tudjuk, hogy a kulcs minden bitje 55%-kal 0, es 45%-kal 1, igy egy ido utan mar nem elhanyagolhato valoszinuseggel tudjuk megallapitani a \n",
    "#   kulcs kovetkezo bitjenek erteket\n",
    "\n",
    "# alveletlen valoszinusegi valtozok egyutteset akkor kaphatnank csak, ha nem lenne predikalhato"
   ]
  },
  {
   "cell_type": "code",
   "execution_count": 3,
   "metadata": {},
   "outputs": [
    {
     "name": "stdout",
     "output_type": "stream",
     "text": [
      "65\n",
      "64\n",
      "65\n"
     ]
    }
   ],
   "source": [
    "# titkositas visszafejtesenek alap otlete:\n",
    "#    ha egy mar titkositott szoveget a kulccsal ismet XOR-olunk, visszakapjuk az eredeti szoveget\n",
    "# az alabbi pelda bemutatja a fentebb emlitett visszfejtesi strategiat\n",
    "print(ord('A'))\n",
    "print(ord('A') ^ 1)\n",
    "print((ord('A') ^ 1) ^ 1)"
   ]
  },
  {
   "cell_type": "markdown",
   "metadata": {},
   "source": [
    "## Ez a megoldas nem bitenkenti titkositas, itt egy adott karaktert toltunk el 0 vagy 1 szammal\n",
    "## A RENDES MEGOLDAS LENTEBB LATHATO!!"
   ]
  },
  {
   "cell_type": "code",
   "execution_count": 4,
   "metadata": {},
   "outputs": [
    {
     "name": "stdout",
     "output_type": "stream",
     "text": [
      "0 aranya:  0.535\n",
      "1 aranya:  0.465\n"
     ]
    }
   ],
   "source": [
    "# A \"rossz\" pseudo random sorozat generalasa -> 1. modszer\n",
    "# 1 es 100 kozotti szam, ha kisebb, mint 56, akkor 0, ha nagyobb, akkor 1 a bit erteke\n",
    "\n",
    "import math\n",
    "import random\n",
    "\n",
    "key = []\n",
    "\n",
    "def generateRandomBitList (key, x):\n",
    "    \n",
    "    for i in range(0, x):\n",
    "        rnd = random.randint(1,100)\n",
    "        if (rnd < 56):\n",
    "            tmp = 0\n",
    "            key.append(tmp)\n",
    "        else:\n",
    "            tmp = 1\n",
    "            key.append(tmp)\n",
    "    return key\n",
    "\n",
    "key = generateRandomBitList(key, 200)\n",
    "print(\"0 aranya: \", key.count(0) / len(key))\n",
    "print(\"1 aranya: \", key.count(1) / len(key))"
   ]
  },
  {
   "cell_type": "code",
   "execution_count": 5,
   "metadata": {},
   "outputs": [
    {
     "name": "stdout",
     "output_type": "stream",
     "text": [
      "0 aranya:  0.573\n",
      "1 aranya:  0.427\n"
     ]
    }
   ],
   "source": [
    "# Egyeb rossz pseudo random szam generalas otlet -> 100 es 1 000 000 kozott generalok random szamokat, es a 100-zal vett maradekukat vizsgalom\n",
    "# Ha n % 100 < 55 -> bit = 0, else bit = 1\n",
    "\n",
    "def otherBitListGeneration(key, x):\n",
    "    for i in range(x):\n",
    "        rnd = random.randint(100, 1000000)\n",
    "        if (rnd % 100) < 55:\n",
    "            key.append(0)\n",
    "        else:\n",
    "            key.append(1)\n",
    "            \n",
    "    return key\n",
    "\n",
    "key2 = []\n",
    "key2 = otherBitListGeneration(key2, 1000)\n",
    "\n",
    "print(\"0 aranya: \", key2.count(0) / len(key2))\n",
    "print(\"1 aranya: \", key2.count(1) / len(key2))"
   ]
  },
  {
   "cell_type": "code",
   "execution_count": 6,
   "metadata": {},
   "outputs": [
    {
     "name": "stdout",
     "output_type": "stream",
     "text": [
      "Titkositott szoveg:\n",
      "\n",
      "AAAABABBBAAABAABAAAAABAAABBAABABBABAAAABABBBABBBAABBAABABBBBBAABBBABAABBAAAABABAABBAABABAABABABBBABABAAABBABBBAAABBABBBAABBBAABABBBABBABABBBBBAABBBABBBAAAABBABBBAABBBBABBAABBBBAAAABBAAAABABAAAABBBBBBB\n"
     ]
    }
   ],
   "source": [
    "# otlet a jatekhoz:\n",
    "#   -> amennyiben az XOR muveletnel 1-es bittel csokkentenenk az 'A' unicode karakter erteket, helyette a csokkentett unicode-hoz 2-t adva megkapjuk 'B' unicode karakteret\n",
    "#   -> igy mar csak a statisztikai alapokra tudunk tamaszkodni, es megnezni, hogy az adott szovegben pontosan hany darab A, es hany darab B betu talalhato\n",
    "\n",
    "#   -> amennyiben az eredeti szoveg \"A\"*200 volt, ugy a chiper textben nagy valoszinuseggel tobb A betunek kell maradnia\n",
    "#   -> amennyiben az eredeti szoveg \"B\"*200 volt, ugy a chiper textben nagy valoszinuseggel tobb B betunek kell maradnia\n",
    "\n",
    "# a kulcsba generalt gyakorisag ismereteben igy mar tamadhatova valik a chiper text, es tudunk kovetkeztetni az eredezi szovegre \n",
    "\n",
    "\n",
    "def xorEncription(plain, key):\n",
    "    n = min(len(plain), len(key))\n",
    "    if plain[0] == 'A':\n",
    "        ascii_codes = [(ord(plain[i]) ^ key[i]) if key[i] == 0 else ((ord(plain[i]) ^ key[i]) + 2)  for i in range(n)]\n",
    "        return ''.join([chr(x) for x in ascii_codes])\n",
    "    else:\n",
    "        ascii_codes = [(ord(plain[i]) ^ key[i]) if key[i] == 0 else ((ord(plain[i]) ^ key[i]) - 2) for i in range(n)]\n",
    "        return ''.join([chr(x) for x in ascii_codes])\n",
    "\n",
    "\n",
    "def generateChiperText():\n",
    "    chiper = \"\"\n",
    "    m0 = 200*'A'\n",
    "    m1 = 200*'B'\n",
    "    key = []\n",
    "    key = generateRandomBitList(key, 1600)\n",
    "    \n",
    "    rand_for_chiper = random.randint(0,1)\n",
    "    \n",
    "    if rand_for_chiper == 0:\n",
    "        chiper = xorEncription(m0, key)\n",
    "    else:\n",
    "        chiper = xorEncription(m1, key)\n",
    "    \n",
    "    return chiper\n",
    "\n",
    "chiper = generateChiperText()\n",
    "    \n",
    "print(\"Titkositott szoveg:\")\n",
    "print()\n",
    "print (chiper)"
   ]
  },
  {
   "cell_type": "code",
   "execution_count": 7,
   "metadata": {},
   "outputs": [
    {
     "name": "stdout",
     "output_type": "stream",
     "text": [
      "'A' betuk szama:  96\n",
      "'A' betuk aranya:  0.48\n",
      "\n",
      "'B' betuk szama:  104\n",
      "'B' betuk aranya:  0.52\n",
      "\n",
      "Az eredeti szoveg a:  200*B  volt!\n"
     ]
    }
   ],
   "source": [
    "# Megoldas a karakterenkenti eltolasra\n",
    "def guessingOriginalMessage(chiper):\n",
    "    if chiper.count('A') > chiper.count('B'):\n",
    "        return \"200*A\"\n",
    "    else:\n",
    "        return \"200*B\"\n",
    "    \n",
    "\n",
    "answer = guessingOriginalMessage(chiper)\n",
    "print(\"'A' betuk szama: \", chiper.count('A'))\n",
    "print(\"'A' betuk aranya: \", chiper.count('A') / len(chiper))\n",
    "print()\n",
    "print(\"'B' betuk szama: \", chiper.count('B'))\n",
    "print(\"'B' betuk aranya: \", chiper.count('B') / len(chiper))\n",
    "print()\n",
    "print(\"Az eredeti szoveg a: \", answer, \" volt!\")"
   ]
  },
  {
   "cell_type": "markdown",
   "metadata": {},
   "source": [
    "# RENDES MEGOLDAS -> N es M karakterek vizsgalataval"
   ]
  },
  {
   "cell_type": "code",
   "execution_count": 8,
   "metadata": {},
   "outputs": [
    {
     "name": "stdout",
     "output_type": "stream",
     "text": [
      "Titkositott szoveg:\n",
      "\n",
      "M_[LVO\\RWTLPRUU\\QPQZZRT^QVWQV[UTRXZXWPVUQUQWVYUWPMRQ_\\WPWRQQXLQUQRMPPZWSTQTLQSZZQWRV^[PUYUWQQMZ^WPXZZSXZPZTZZXXXZUZ\\P[PQXRRYYUUWYPRULPRTX^SR[QTMMWPXMXQSURZVTO[PTVV[ZVOZWSMUTTUYSZXUPYZQUTVPWTVURUYTWW[W\n",
      "\n",
      "Az eredeti szoveg:  B * 200\n",
      "\n"
     ]
    }
   ],
   "source": [
    "# bitenkenti titkositas\n",
    "# szeretnem kihasznalni az asszimetrikussagot, hogy tobb 0-s van, mint ahany darab 1-es\n",
    "\n",
    "def convert_binary_list_to_str(L):\n",
    "    ret = \"\"\n",
    "    for i in range(math.floor(len(L) / 8)):\n",
    "        ret += chr( sum([2^k * L[8*i+k] for k in range(8)] ) )\n",
    "    return ret\n",
    "\n",
    "def output_random_ciphertext_ex1():\n",
    "    m0 = \"A\"*200\n",
    "    m1 = \"B\"*200\n",
    "    plain = m0 if random.randint(0,1) == 0 else m1\n",
    "    \n",
    "    key_new = []\n",
    "    key_new = generateRandomBitList(key_new, 1600)\n",
    "\n",
    "    k = convert_binary_list_to_str(key_new)\n",
    "    return encrypt_xor(plain, k), plain[0]\n",
    "\n",
    "chiper_new, letter = output_random_ciphertext_ex1()\n",
    "print(\"Titkositott szoveg:\")\n",
    "print()\n",
    "print(chiper_new)\n",
    "print()\n",
    "print(\"Az eredeti szoveg: \", letter, \"* 200\")\n",
    "print()\n",
    "\n",
    "# Counter seged konyvtar hasznalata, hogy a leggyakoribb eseteket megtalaljuk\n",
    "from collections import Counter\n",
    "\n",
    "def lettersOfChiperText() :\n",
    "    letters = []\n",
    "    letters.append(chiper_new[0])\n",
    "    for i in range(len(chiper_new)):\n",
    "        for j in range(len(letters)):\n",
    "            if chiper_new[i] not in letters:\n",
    "                letters.append(chiper_new[i])\n",
    "                \n",
    "    return letters"
   ]
  },
  {
   "cell_type": "code",
   "execution_count": 9,
   "metadata": {},
   "outputs": [
    {
     "name": "stdout",
     "output_type": "stream",
     "text": [
      "Leggyakoribb elemek:\n",
      "\n",
      "[('U', 20), ('Q', 20), ('Z', 20), ('W', 18), ('P', 18), ('R', 15), ('T', 15), ('X', 13), ('V', 12), ('M', 8), ('[', 8), ('Y', 8), ('S', 7), ('L', 5), ('\\\\', 4), ('^', 4), ('O', 3), ('_', 2)]\n"
     ]
    }
   ],
   "source": [
    "# leggyakoribb elemeket vizsgalom a titkositott szovegben\n",
    "def mostCommonLetters(chiper):\n",
    "    return Counter(chiper).most_common()\n",
    "\n",
    "# gyakorisag viszgalat a leggyakrabban elofordulo elemekre\n",
    "print(\"Leggyakoribb elemek:\")\n",
    "print()\n",
    "most_common = mostCommonLetters(chiper_new)\n",
    "print(most_common)"
   ]
  },
  {
   "cell_type": "code",
   "execution_count": 10,
   "metadata": {},
   "outputs": [],
   "source": [
    "# MEGOLDAS!!\n",
    "\n",
    "# megfigyeles -> gyakran ismetlodo lepes, hogy ha 'A'*200 volt az eredeti szoveg, ugy a chiper text-ben lesz N betu, ellenkezo esetben, ha 'B'*200 volt,ugy gyakran tartalmaz 'M' karaktert \n",
    "# a megfigyelesekbol azt a kovetkeztetest vontam le, hogy valamelyik edge case lehet az M es N, tehat vagy a legnagyobb, vagy a legkisebb eltolast tartalmazza\n",
    "# mivel vagy az egyik, vagy csak a masik fordul elo, igy eleg jo megbizhatosagot kapunk\n",
    "\n",
    "def letterNOrletterM(chiper):\n",
    "    counter_n = 0\n",
    "    counter_m = 0\n",
    "    for i in range(len(chiper)):\n",
    "        if chiper[i] == 'N':\n",
    "            counter_n += 1\n",
    "        elif chiper[i] == 'M':\n",
    "            counter_m = 0\n",
    "    if counter_n > counter_m:\n",
    "        return 'A'\n",
    "    else:\n",
    "        return 'B'"
   ]
  },
  {
   "cell_type": "code",
   "execution_count": 27,
   "metadata": {},
   "outputs": [
    {
     "name": "stdout",
     "output_type": "stream",
     "text": [
      "\n",
      "A keresett karakter: B\n",
      "1000 esetbol az eltalalas aranya a specialis N es M karakter keresesevel:  0.997\n"
     ]
    }
   ],
   "source": [
    "# A legjobb megbizhatosagot az hozta, amelyik esetben azt nezzuk, hogy van-e N vagy M betu a titkositott szovegben\n",
    "# HA \n",
    "#  -> N betut tartalmaz a titkositott szoveg, akkor feltetelezzuk, hogy csupa 'A' karakterbol allhatott\n",
    "#  -> M betut tartalmaz a titkositott szoveg, akkor feltetelezzuk, hogy csupa 'B' karakterbol allhatott\n",
    "# amiatt megbizhato, mert velhetoleg van egy olyan minimalis/maximalis eltolas, amibol csak az egyik, vagy csak a masik karaktert kaphatjuk meg\n",
    "\n",
    "def ratio (N):\n",
    "    ret = 0\n",
    "    for i in range(N):\n",
    "        c,m = output_random_ciphertext_ex1()\n",
    "        s = letterNOrletterM(c)\n",
    "        if s == m:\n",
    "            ret += 1\n",
    "    return ret\n",
    "\n",
    "ret = ratio(1000)\n",
    "print()\n",
    "print('A keresett karakter:', letter)\n",
    "print('1000 esetbol az eltalalas aranya a specialis N es M karakter keresesevel: ', ret / 1000)"
   ]
  },
  {
   "cell_type": "markdown",
   "metadata": {},
   "source": [
    "## Tovabbi otletelesek, melyeken egyeb irant gondolkoztam a megoldas keresese kozben"
   ]
  },
  {
   "cell_type": "code",
   "execution_count": 12,
   "metadata": {},
   "outputs": [],
   "source": [
    "# otlet -> gyakorisagi vizsgalat a leggyakoribb elem oszthatosagara, ez egy 55-60% koruli eredmenyt hozott\n",
    "# otlet: ord('A') paratlan, es ord('B') paros\n",
    "# probalgatasok alapjan azt figyeltem meg, ha ord('A')-hoz adok kevesebb 1-est tartalmazo bitsorozatot, akkor ord(eredmeny) paros lesz, ord('B')-hez hozzaadva pedig paratlan\n",
    "# ezt kiprobalva azt figyelem meg, hogy a leggyakoribb elem, amit kaptunk, annak ord()-ja paros-e, vagy paratlan\n",
    "\n",
    "\n",
    "def commonAOrCommonB(most_common):\n",
    "    counter_a = 0\n",
    "    counter_b = 0\n",
    "    if (ord(most_common[0][0]) % 2 == 0):\n",
    "        return 'A'\n",
    "    elif (ord(most_common[0][0]) % 2 == 1):\n",
    "        return 'B'"
   ]
  },
  {
   "cell_type": "code",
   "execution_count": 20,
   "metadata": {},
   "outputs": [
    {
     "name": "stdout",
     "output_type": "stream",
     "text": [
      "\n",
      "A keresett karakter: B\n",
      "1000 esetbol az eltalalas aranya az osztasi maradekos modszerrel:  0.564\n"
     ]
    }
   ],
   "source": [
    "# Ez a megoldas nagyjabol 55%-60% kornyeki megbizhatosagot ad\n",
    "def ratio (N):\n",
    "    ret = 0\n",
    "    for i in range(N):\n",
    "        c,m = output_random_ciphertext_ex1()\n",
    "        comm = mostCommonLetters(c)\n",
    "        s = commonAOrCommonB(comm[0][0])\n",
    "        if s == m:\n",
    "            ret += 1\n",
    "    return ret\n",
    "\n",
    "print()\n",
    "print('A keresett karakter:', letter)\n",
    "print('1000 esetbol az eltalalas aranya az osztasi maradekos modszerrel: ', ratio(1000) / 1000)"
   ]
  },
  {
   "cell_type": "code",
   "execution_count": 14,
   "metadata": {},
   "outputs": [],
   "source": [
    "def badTipp(most_common):\n",
    "    first1 = ord(most_common[0][0]) ^ ord('B')\n",
    "    first2 = ord(most_common[0][0]) ^ ord('A')\n",
    "    if (first1 > first2):\n",
    "        return 'A'\n",
    "    else:\n",
    "        return 'B'"
   ]
  },
  {
   "cell_type": "code",
   "execution_count": 15,
   "metadata": {},
   "outputs": [],
   "source": [
    "# tipp -> tfh, mivel 0 valoszinusege 0,55, igy elkepzelheto, hogy letezik [0,0,0,0,0,0,0,0] bitsorozat a kulcsban\n",
    "# az xor tulajdonsagat kihasznalva, miszerint, ha egy karakter ketszer egymas utan ugyan azzal a karakterrel xor-olunk visszakapjuk ugyan azt, igy megprobaljuk ezt kihasznalni\n",
    "# elkeszitjuk az ord() fuggveny meghivasaval a [0,0,0,0,0,0,0,0] bitsorozatbol keszitett karaktert\n",
    "# a chiper textet vegig megyunk, es minden karakterhez hozza xor-oljuk, es szamoljuk, hogy hanyszor kapunk 'A', es hanyszor 'B' karaktert\n",
    "\n",
    "asd = [0,0,0,0,0,0,0,0]\n",
    "\n",
    "def AorB(chiper):\n",
    "    counter_a = 0\n",
    "    counter_b = 0\n",
    "    for i in range(len(chiper)):\n",
    "        if (ord(chiper[i]) ^ ord(convert_binary_list_to_str(asd))) == ord('A'):\n",
    "            counter_a += 1\n",
    "        elif (ord(chiper[i]) ^ ord(convert_binary_list_to_str(asd))) == ord('B'):\n",
    "            counter_b += 1\n",
    "    if counter_a > counter_b:\n",
    "        return 'A'\n",
    "    else:\n",
    "        return 'B'\n",
    "\n",
    "# otlet -> ord('A') paratlan, ord('B') paros, igy ha ord('A')-hoz adok hozza 8 bitbol allo sorozatot, ahol a 0-k szama tobb, paratlant fogok kapni, ord('B')-t hozza adva, pedig paros szamot\n",
    "def evenOrOdd(chiper):\n",
    "    counter_a = 0\n",
    "    counter_b = 0\n",
    "    for i in range(len(chiper)):\n",
    "        if ((ord(chiper[i]) ^ ord('A')) % 2 == 1):\n",
    "            counter_a += 1\n",
    "        elif ((ord(chiper[i]) ^ ord('B')) % 2 == 0):\n",
    "            counter_b += 1\n",
    "    if counter_a > counter_b:\n",
    "        return 'A'\n",
    "    else:\n",
    "        return 'B'"
   ]
  },
  {
   "cell_type": "code",
   "execution_count": 16,
   "metadata": {},
   "outputs": [
    {
     "name": "stdout",
     "output_type": "stream",
     "text": [
      "a leggyakoribb elem vizsgalataval kapott tipp:  A\n",
      "'A' es 'B' szamlalasabol kapott eredmeny:  A\n",
      "A paros es paratlan szamlalasbol kijott eredmeny:  A\n"
     ]
    }
   ],
   "source": [
    "print('a leggyakoribb elem vizsgalataval kapott tipp: ', badTipp(most_common))\n",
    "print(\"'A' es 'B' szamlalasabol kapott eredmeny: \", AorB(chiper_new))\n",
    "print(\"A paros es paratlan szamlalasbol kijott eredmeny: \", evenOrOdd(chiper_new))"
   ]
  }
 ],
 "metadata": {
  "kernelspec": {
   "display_name": "Python 3",
   "language": "python",
   "name": "python3"
  },
  "language_info": {
   "codemirror_mode": {
    "name": "ipython",
    "version": 3
   },
   "file_extension": ".py",
   "mimetype": "text/x-python",
   "name": "python",
   "nbconvert_exporter": "python",
   "pygments_lexer": "ipython3",
   "version": "3.8.3"
  }
 },
 "nbformat": 4,
 "nbformat_minor": 4
}
