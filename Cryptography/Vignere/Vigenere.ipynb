{
 "cells": [
  {
   "cell_type": "markdown",
   "metadata": {},
   "source": [
    "# Egy elképzelt nyelvben csak az angol ábécé nagybetűi szerepelnek. A nyelv minden szövege úgy épül fel, hogy blokkokból áll: minden blokk egymástól függetlenül\n",
    "\n",
    "#### 80% valószínűséggel egy olyan 5 hosszú blokk, melyben csak magánhangzók szerepelnek (A, E, I, O, U) \n",
    "#### 15% valószínűséggel egy olyan 7 hosszú blokk, melyben csak mássalhangzók szerepelnek,\n",
    "#### 5% valószínűséggel a következő sztring: \"KORE\".\n",
    "#### Valósítsunk meg egy olyan törő algoritmust, mely a fenti nyelvnek egy legalább 200 hosszú szövegének Vigenere-titkosítását vissza tudja fejteni (jó eséllyel). Használhatjuk a 2-3. órán tekintett módszert, ahol a titkos szöveg ismétléseit kellett detekálni. A Vigenere-kulcs  egy 3 és 15 közti hosszúságú lista véletlen shiftekkel."
   ]
  },
  {
   "cell_type": "code",
   "execution_count": 3,
   "metadata": {},
   "outputs": [],
   "source": [
    "import random\n",
    "import math\n",
    "import copy "
   ]
  },
  {
   "cell_type": "code",
   "execution_count": 4,
   "metadata": {},
   "outputs": [],
   "source": [
    "# karakterek kodolasa\n",
    "def indexOfLetter(c):\n",
    "    return ord(c) - 65\n",
    "def letterWithIndex(i):\n",
    "    return chr(i+65)\n",
    "def shiftChar(c, shift):\n",
    "    i = indexOfLetter(c)\n",
    "    new = (i + shift) % 26\n",
    "    return letterWithIndex(new)"
   ]
  },
  {
   "cell_type": "code",
   "execution_count": 5,
   "metadata": {},
   "outputs": [],
   "source": [
    "# kulcs eloallitasa\n",
    "def generateKey():\n",
    "    L = []\n",
    "    random_number = random.randint(3, 15)\n",
    "    for i in range (0,random_number):\n",
    "        shift_number = random.randint(0, 26)\n",
    "        L.append(shift_number)\n",
    "    return L"
   ]
  },
  {
   "cell_type": "code",
   "execution_count": 6,
   "metadata": {},
   "outputs": [],
   "source": [
    "# Vigenere titkosítás -> orai kod\n",
    "def vigenere(s, shiftList):\n",
    "    ret = \"\"\n",
    "    # Current position in the shiftList\n",
    "    pos = 0\n",
    "    n = len(shiftList)\n",
    "    for c in s:\n",
    "        new = shiftChar(c, shiftList[pos])\n",
    "        ret += new\n",
    "        # Add one, restart if list is over\n",
    "        pos = (pos + 1) % n\n",
    "    return ret"
   ]
  },
  {
   "cell_type": "code",
   "execution_count": 7,
   "metadata": {},
   "outputs": [],
   "source": [
    "# Valoszinuseghez szamgenerator\n",
    "# Egy random szam generatorral szimulalom a nyelvben valo elofordulasi valoszinuseget\n",
    "# 1 es 100 kozott generalok random szamot, es a hatarok reprezentaljak az elofordulasi valoszinuseget 100 esetet tekintve\n",
    "def blockProbability():\n",
    "    L = \"\"\n",
    "    rand_prob = random.randint(1, 100)\n",
    "    if ((rand_prob > -1) and (rand_prob < 81)):\n",
    "        for i in range (0,5):\n",
    "            rand_char = random.randint(0,4)\n",
    "            m = ['A', 'E', 'I', 'O', 'U']\n",
    "            L += m[rand_char]\n",
    "    elif ((rand_prob > 80) and (rand_prob < 96)):\n",
    "        for i in range (0,7):\n",
    "            m = ['B', 'C', 'D', 'F', 'G', 'H', 'J', 'K', 'L', 'M', 'N', 'O', 'P', 'Q', 'R', 'S', 'T', 'V', 'W', 'X', 'Y', 'Z']\n",
    "            rand_char = random.randint(0, len(m)-1)\n",
    "            L += m[rand_char]\n",
    "    else:\n",
    "        L += \"KORE\"\n",
    "    return L"
   ]
  },
  {
   "cell_type": "code",
   "execution_count": 8,
   "metadata": {},
   "outputs": [],
   "source": [
    "# Titkos szoveg eloallitasa\n",
    "def encodingText (s, L):\n",
    "    for i in range (0, len(s)):\n",
    "        s[i] = vigenere(s[i], L)\n",
    "        print(s[i])"
   ]
  },
  {
   "cell_type": "code",
   "execution_count": 9,
   "metadata": {},
   "outputs": [],
   "source": [
    "# Ismetlodesek kiszurese\n",
    "def repetitionsInString(s, length = 3):\n",
    "    n = len(s)\n",
    "    ret = [(i,j) for i in range(0, n-length) for j in range(i+1, n-length+1) if s[i:(i+length)] == s[j:(j+length)] ]\n",
    "    return ret"
   ]
  },
  {
   "cell_type": "code",
   "execution_count": 10,
   "metadata": {},
   "outputs": [],
   "source": [
    "s = []\n",
    "for i in range (0,100):\n",
    "    s.append(blockProbability())\n",
    "L = generateKey()"
   ]
  },
  {
   "cell_type": "code",
   "execution_count": 11,
   "metadata": {},
   "outputs": [
    {
     "name": "stdout",
     "output_type": "stream",
     "text": [
      "AOEOUEAOAIOUOEIUIUEEUIEAUMZDRPRHOEUEOJTXMDKPUIEOUEEAAIIUIUUEEIEOOAOIAAUAOEUOAAUIEUAEEEEAIEAEUOTJWBVHPKOREOEOOAIUOOESPQXLTCIEOEOEAEOUFDRTCQVOIUUEOIUIUOEEEIUUEIAAUAUEIUAIIOIEAUNNQLJYLKOREVSJJQDZKOREBVSQZNMUEAAEAIEAAIUOIEPWHDFTNOIAAOUOIEIAEIAUIEIUOIEAEEIIOAOAEIIIEAEIAEOUEUAOIAEEOUIEAIIOOOUIUASKOJMXQEAUEUAIOUAIAIAEUUAEOWFQBTOMIEUEOUUIUIIOAEUEUIOOEUAAUWVNZVORIEOEOAAUUUEEAAEUEAIOKOREUUUEAUOUOUEOIUULKMXMMTUIOIOKOFKCFWEAAIUUAEUIHJDZSQHLFKBXBGOUUOIOEUUIOUEOAOAOOEEOAIEIIIUUOUUAAUOUIOEIEOAOUUIIEIAAIAAIEIEUAEIIAAIAAOIOOAOAIUAIAUEOOIUI\n"
     ]
    }
   ],
   "source": [
    "# egy hosszu stringet keszitek a szoveg blokkokbol\n",
    "complete = \"\"\n",
    "for i in range (0, len(s)):\n",
    "    complete += s[i]\n",
    "print(complete)"
   ]
  },
  {
   "cell_type": "code",
   "execution_count": 12,
   "metadata": {},
   "outputs": [
    {
     "name": "stdout",
     "output_type": "stream",
     "text": [
      "NYESC\n",
      "RKOEQ\n",
      "BEOIQ\n",
      "HSUIM\n",
      "HSEEC\n",
      "ZJDVXKQ\n",
      "BOUIW\n",
      "WDXQLDY\n",
      "HSESC\n",
      "ROAEQ\n",
      "VEIYC\n",
      "ROIIW\n",
      "BKOMI\n",
      "NEASM\n",
      "HYAEC\n",
      "VOUEM\n",
      "ROEEQ\n",
      "RKEYW\n",
      "GTWFDAY\n",
      "XYRI\n",
      "BOOSI\n",
      "VEOSM\n",
      "FZQBTML\n",
      "VOOIW\n",
      "RKESC\n",
      "SNRXKJE\n",
      "BSUYM\n",
      "BSUMC\n",
      "BOEIQ\n",
      "HEEMI\n",
      "NEAYM\n",
      "VEAMQ\n",
      "BSEEC\n",
      "AXQPRRU\n",
      "XYRI\n",
      "ICJNYWI\n",
      "XYRI\n",
      "OFSUHGV\n",
      "HOAEM\n",
      "NSEEI\n",
      "VEOMM\n",
      "CGHHNMW\n",
      "BSAEW\n",
      "HYIIQ\n",
      "NOIEC\n",
      "VOIYW\n",
      "VOAIM\n",
      "VSOEW\n",
      "NOIMQ\n",
      "RKEMI\n",
      "RYUIC\n",
      "NYIEM\n",
      "RYUMM\n",
      "NSISW\n",
      "BEIYI\n",
      "FUONUQZ\n",
      "RKUIC\n",
      "NSOYI\n",
      "VKIEM\n",
      "HEAIW\n",
      "JPQFBHV\n",
      "VOUIW\n",
      "HEIYQ\n",
      "VYAIC\n",
      "REISW\n",
      "REAEC\n",
      "JFNDDHA\n",
      "VOOIW\n",
      "NKUYC\n",
      "ROAEM\n",
      "HOAMW\n",
      "XYRI\n",
      "HEUII\n",
      "HYUSC\n",
      "RYIYC\n",
      "YUMBUFC\n",
      "HSOMW\n",
      "XYFOKYF\n",
      "RKAMC\n",
      "HKEYQ\n",
      "UTDDAJQ\n",
      "YPKFFUP\n",
      "BEUSQ\n",
      "BOUYQ\n",
      "BEESI\n",
      "BKOSM\n",
      "RYAMM\n",
      "VSIYC\n",
      "BEUEI\n",
      "HYUMW\n",
      "RSESI\n",
      "BEUMQ\n",
      "RSAEQ\n",
      "NKIIQ\n",
      "REAIQ\n",
      "VKAMI\n",
      "NYISW\n",
      "NYAMC\n",
      "NSAYM\n",
      "BYIYQ\n"
     ]
    }
   ],
   "source": [
    "# titkositas ket fele modon\n",
    "\n",
    "# 1 - blokkonkent titkositom a szoveget -> minden blokk karaktereihez adott shiftet hasznalok\n",
    "r = copy.deepcopy(s)\n",
    "encodingText(r, L)"
   ]
  },
  {
   "cell_type": "code",
   "execution_count": 13,
   "metadata": {},
   "outputs": [
    {
     "data": {
      "text/plain": [
       "'NYESCXJPIVYUSMBDJCROUMMTDNHQBPVPHNVMBTTBUWTQCVOOYMXJBQVEIYCXNJMBYASQTJVIBOUSITDJMHKEIMXJJMNOUSBCFCDUZKSZXXFWBKIYWHNTXDHLXKBNPMBOAIWNOEZGMQZWBDVMBSUMCHNFMVEUIQTJVIHOIYIBRPQRKURVJUKGYUOVMOBKRDNZOWKNCDFAZRUNNBIRKIIITRVWVOPAPWOUVBSAEWNXJMVKEMINRFQHYIIIXNJQBKOEMBRJMNOIEMHDFCNYIEMXXVQRKIMWHXVQHKSOWCVYYRKUICTRPCNSAMIXDVIRYWJYUCPUVOUIWNDJCVSOEMNNVQBYEYITDXDAJVSZBNPMBKAYCNNFINOUIIBXLWEOUYCXJVWHYUIWBDVTXWXQUMDJWVYKSNDLGERKAMCNJFCVRJHHLZITSUBBJZXVCBSOICNRPCRYASIHXFMBKIIQBRVCBEUEINXVQBOIIWTXVCVSEMITRBIVOIICTNJQNKIEIHRPWNYAMCTRBCRYOMCB'"
      ]
     },
     "execution_count": 13,
     "metadata": {},
     "output_type": "execute_result"
    }
   ],
   "source": [
    "# 2 - az egesz szovegen egyben vegig megyek, es karakterenkent kodolok\n",
    "complete_text = copy.deepcopy(complete)\n",
    "vigenere(complete_text, L)"
   ]
  },
  {
   "cell_type": "code",
   "execution_count": 14,
   "metadata": {},
   "outputs": [
    {
     "name": "stdout",
     "output_type": "stream",
     "text": [
      "[]\n"
     ]
    }
   ],
   "source": [
    "# ismerem a nyelvet, igy tudom, hogy vannak benne 4 hosszu KORE stringek, eloszor ezekkel kezdem\n",
    "# a 4 hosszu stringeknel pontosan vissza tudom fejteni, hogy az elso 4 karakter mennyivel van eltolva\n",
    "\n",
    "four_char = repetitionsInString(complete_text, 7)\n",
    "print(four_char)"
   ]
  },
  {
   "cell_type": "code",
   "execution_count": 15,
   "metadata": {},
   "outputs": [],
   "source": [
    "def guessedKeyLength(ciphertext, length = 3):\n",
    "    differences = [j-i for (i,j) in repetitionsInString(ciphertext, length)]\n",
    "    return gcd(differences)"
   ]
  },
  {
   "cell_type": "code",
   "execution_count": 16,
   "metadata": {},
   "outputs": [],
   "source": [
    "# megprobalom a 4 hosszu ismetlodesekbol az eltolasokat meghatarozni\n",
    "def KeyLengths(ciphertext, length = 3):\n",
    "    differences = [j-i for (i,j) in repetitionsInString(ciphertext, length)]\n",
    "    return differences"
   ]
  },
  {
   "cell_type": "code",
   "execution_count": 18,
   "metadata": {},
   "outputs": [
    {
     "name": "stdout",
     "output_type": "stream",
     "text": [
      "[317, 90, 418, 121, 234, 247, 204, 29, 14, 14]\n",
      "1\n"
     ]
    }
   ],
   "source": [
    "differences = KeyLengths(complete_text, 5)\n",
    "print(differences)\n",
    "\n",
    "def gcdOfKeys(array):\n",
    "    if len(array) > 0:\n",
    "        b=array[0]\n",
    "        for i in range (0, len(array)):\n",
    "            s=gcd(b,array[i])\n",
    "            b=s\n",
    "        return b\n",
    "print(gcdOfKeys(differences))"
   ]
  },
  {
   "cell_type": "code",
   "execution_count": 20,
   "metadata": {},
   "outputs": [
    {
     "name": "stdout",
     "output_type": "stream",
     "text": [
      "AOEOUEAOAIOUOEIUIUEEUIEAUMZDRPRHOEUEOJTXMDKPUIEOUEEAAIIUIUUEEIEOOAOIAAUAOEUOAAUIEUAEEEEAIEAEUOTJWBVHPKOREOEOOAIUOOESPQXLTCIEOEOEAEOUFDRTCQVOIUUEOIUIUOEEEIUUEIAAUAUEIUAIIOIEAUNNQLJYLKOREVSJJQDZKOREBVSQZNMUEAAEAIEAAIUOIEPWHDFTNOIAAOUOIEIAEIAUIEIUOIEAEEIIOAOAEIIIEAEIAEOUEUAOIAEEOUIEAIIOOOUIUASKOJMXQEAUEUAIOUAIAIAEUUAEOWFQBTOMIEUEOUUIUIIOAEUEUIOOEUAAUWVNZVORIEOEOAAUUUEEAAEUEAIOKOREUUUEAUOUOUEOIUULKMXMMTUIOIOKOFKCFWEAAIUUAEUIHJDZSQHLFKBXBGOUUOIOEUUIOUEOAOAOOEEOAIEIIIUUOUUAAUOUIOEIEOAOUUIIEIAAIAAIEIEUAEIIAAIAAOIOOAOAIUAIAUEOOIUI\n",
      "[13, 10, 0, 4, 8, 19, 9, 1, 8]\n",
      "NYESCXJPIVYUSMBDJCROUMMTDNHQBPVPHNVMBTTBUWTQCVOOYMXJBQVEIYCXNJMBYASQTJVIBOUSITDJMHKEIMXJJMNOUSBCFCDUZKSZXXFWBKIYWHNTXDHLXKBNPMBOAIWNOEZGMQZWBDVMBSUMCHNFMVEUIQTJVIHOIYIBRPQRKURVJUKGYUOVMOBKRDNZOWKNCDFAZRUNNBIRKIIITRVWVOPAPWOUVBSAEWNXJMVKEMINRFQHYIIIXNJQBKOEMBRJMNOIEMHDFCNYIEMXXVQRKIMWHXVQHKSOWCVYYRKUICTRPCNSAMIXDVIRYWJYUCPUVOUIWNDJCVSOEMNNVQBYEYITDXDAJVSZBNPMBKAYCNNFINOUIIBXLWEOUYCXJVWHYUIWBDVTXWXQUMDJWVYKSNDLGERKAMCNJFCVRJHHLZITSUBBJZXVCBSOICNRPCRYASIHXFMBKIIQBRVCBEUEINXVQBOIIWTXVCVSEMITRBIVOIICTNJQNKIEIHRPWNYAMCTRBCRYOMCB\n",
      "[(67, 157), (122, 356)]\n",
      "9\n",
      "QTJVI\n",
      "QTJVI\n",
      "IAAUA\n",
      "IAAUA\n",
      "()\n",
      "BNPMB\n",
      "BNPMB\n",
      "IEOEO\n",
      "IEOEO\n"
     ]
    }
   ],
   "source": [
    "m = ['A', 'E', 'I', 'O', 'U']\n",
    "L2 = [3,2,1]\n",
    "complete2 = copy.deepcopy(complete)\n",
    "print(complete2)\n",
    "complete2\n",
    "complete2 = vigenere(complete2, L)\n",
    "\n",
    "print(L)\n",
    "print(complete2)\n",
    "print(repetitionsInString(complete2, 5))\n",
    "diff = KeyLengths(complete2, 4)\n",
    "gcd_needed = gcdOfKeys(diff)\n",
    "\n",
    "print(gcd_needed)\n",
    "\n",
    "# adott szovegben valo ismetlesek kiiratasa\n",
    "print(complete2[67:72])\n",
    "print(complete2[157:162])\n",
    "print(complete[67:72])\n",
    "print(complete[157:162])\n",
    "print()\n",
    "print(complete2[122:127])\n",
    "print(complete2[356:361])\n",
    "print(complete[122:127])\n",
    "print(complete[356:361])"
   ]
  },
  {
   "cell_type": "code",
   "execution_count": 33,
   "metadata": {},
   "outputs": [
    {
     "name": "stdout",
     "output_type": "stream",
     "text": [
      "[['A', 'E', 'I', 'O', 'U'], ['A', 'E', 'I', 'O', 'U'], ['A', 'E', 'I', 'O', 'U'], ['A', 'E', 'I', 'O', 'U'], ['A', 'E', 'I', 'O', 'U'], ['A', 'E', 'I', 'O', 'U'], ['KORE'], ['A', 'E', 'I', 'O', 'U'], ['A', 'E', 'I', 'O', 'U'], ['A', 'E', 'I', 'O', 'U'], ['A', 'E', 'I', 'O', 'U'], ['A', 'E', 'I', 'O', 'U'], ['A', 'E', 'I', 'O', 'U'], ['A', 'E', 'I', 'O', 'U'], ['A', 'E', 'I', 'O', 'U'], ['A', 'E', 'I', 'O', 'U'], ['A', 'E', 'I', 'O', 'U'], ['B', 'C', 'D', 'F', 'G', 'H', 'J', 'K', 'L', 'M', 'N', 'O', 'P', 'Q', 'R', 'S', 'T', 'V', 'W', 'X', 'Y', 'Z'], ['A', 'E', 'I', 'O', 'U'], ['KORE'], ['A', 'E', 'I', 'O', 'U'], ['A', 'E', 'I', 'O', 'U'], ['A', 'E', 'I', 'O', 'U'], ['A', 'E', 'I', 'O', 'U'], ['A', 'E', 'I', 'O', 'U'], ['B', 'C', 'D', 'F', 'G', 'H', 'J', 'K', 'L', 'M', 'N', 'O', 'P', 'Q', 'R', 'S', 'T', 'V', 'W', 'X', 'Y', 'Z'], ['A', 'E', 'I', 'O', 'U'], ['A', 'E', 'I', 'O', 'U'], ['A', 'E', 'I', 'O', 'U'], ['A', 'E', 'I', 'O', 'U'], ['A', 'E', 'I', 'O', 'U'], ['A', 'E', 'I', 'O', 'U'], ['A', 'E', 'I', 'O', 'U'], ['A', 'E', 'I', 'O', 'U'], ['A', 'E', 'I', 'O', 'U'], ['A', 'E', 'I', 'O', 'U'], ['A', 'E', 'I', 'O', 'U'], ['A', 'E', 'I', 'O', 'U'], ['B', 'C', 'D', 'F', 'G', 'H', 'J', 'K', 'L', 'M', 'N', 'O', 'P', 'Q', 'R', 'S', 'T', 'V', 'W', 'X', 'Y', 'Z'], ['A', 'E', 'I', 'O', 'U'], ['A', 'E', 'I', 'O', 'U'], ['B', 'C', 'D', 'F', 'G', 'H', 'J', 'K', 'L', 'M', 'N', 'O', 'P', 'Q', 'R', 'S', 'T', 'V', 'W', 'X', 'Y', 'Z'], ['KORE'], ['A', 'E', 'I', 'O', 'U'], ['A', 'E', 'I', 'O', 'U'], ['A', 'E', 'I', 'O', 'U'], ['A', 'E', 'I', 'O', 'U'], ['A', 'E', 'I', 'O', 'U'], ['B', 'C', 'D', 'F', 'G', 'H', 'J', 'K', 'L', 'M', 'N', 'O', 'P', 'Q', 'R', 'S', 'T', 'V', 'W', 'X', 'Y', 'Z'], ['A', 'E', 'I', 'O', 'U'], ['A', 'E', 'I', 'O', 'U'], ['KORE'], ['A', 'E', 'I', 'O', 'U'], ['A', 'E', 'I', 'O', 'U'], ['A', 'E', 'I', 'O', 'U'], ['B', 'C', 'D', 'F', 'G', 'H', 'J', 'K', 'L', 'M', 'N', 'O', 'P', 'Q', 'R', 'S', 'T', 'V', 'W', 'X', 'Y', 'Z'], ['A', 'E', 'I', 'O', 'U'], ['A', 'E', 'I', 'O', 'U'], ['A', 'E', 'I', 'O', 'U'], ['A', 'E', 'I', 'O', 'U'], ['B', 'C', 'D', 'F', 'G', 'H', 'J', 'K', 'L', 'M', 'N', 'O', 'P', 'Q', 'R', 'S', 'T', 'V', 'W', 'X', 'Y', 'Z'], ['A', 'E', 'I', 'O', 'U'], ['A', 'E', 'I', 'O', 'U'], ['A', 'E', 'I', 'O', 'U'], ['A', 'E', 'I', 'O', 'U'], ['KORE'], ['A', 'E', 'I', 'O', 'U'], ['A', 'E', 'I', 'O', 'U'], ['A', 'E', 'I', 'O', 'U'], ['A', 'E', 'I', 'O', 'U'], ['B', 'C', 'D', 'F', 'G', 'H', 'J', 'K', 'L', 'M', 'N', 'O', 'P', 'Q', 'R', 'S', 'T', 'V', 'W', 'X', 'Y', 'Z'], ['A', 'E', 'I', 'O', 'U'], ['A', 'E', 'I', 'O', 'U'], ['A', 'E', 'I', 'O', 'U'], ['A', 'E', 'I', 'O', 'U'], ['A', 'E', 'I', 'O', 'U'], ['B', 'C', 'D', 'F', 'G', 'H', 'J', 'K', 'L', 'M', 'N', 'O', 'P', 'Q', 'R', 'S', 'T', 'V', 'W', 'X', 'Y', 'Z'], ['A', 'E', 'I', 'O', 'U'], ['A', 'E', 'I', 'O', 'U'], ['A', 'E', 'I', 'O', 'U'], ['A', 'E', 'I', 'O', 'U'], ['A', 'E', 'I', 'O', 'U'], ['A', 'E', 'I', 'O', 'U'], ['A', 'E', 'I', 'O', 'U'], ['A', 'E', 'I', 'O', 'U'], ['KORE'], ['A', 'E', 'I', 'O', 'U'], ['A', 'E', 'I', 'O', 'U'], ['A', 'E', 'I', 'O', 'U'], ['A', 'E', 'I', 'O', 'U'], ['A', 'E', 'I', 'O', 'U'], ['A', 'E', 'I', 'O', 'U'], ['A', 'E', 'I', 'O', 'U'], ['A', 'E', 'I', 'O', 'U'], ['A', 'E', 'I', 'O', 'U'], ['A', 'E', 'I', 'O', 'U'], ['A', 'E', 'I', 'O', 'U'], ['A', 'E', 'I', 'O', 'U'], ['A', 'E', 'I', 'O', 'U'], ['A', 'E', 'I', 'O', 'U']]\n"
     ]
    }
   ],
   "source": [
    "# statisztikai elofordulasok\n",
    "m1 = ['A', 'E', 'I', 'O', 'U']\n",
    "m2 = ['B', 'C', 'D', 'F', 'G', 'H', 'J', 'K', 'L', 'M', 'N', 'O', 'P', 'Q', 'R', 'S', 'T', 'V', 'W', 'X', 'Y', 'Z']\n",
    "m3 = [\"KORE\"]\n",
    "language = [m1, m2, m3]\n",
    "LP = [0.8, 0.15, 0.05]\n",
    "\n",
    "X = GeneralDiscreteDistribution(LP)\n",
    "textL = [language[X.get_random_element()] for _ in range(100)]\n",
    "text = []\n",
    "text += textL\n",
    "#text = text.append(textL)\n",
    "\n",
    "print(text)"
   ]
  },
  {
   "cell_type": "code",
   "execution_count": null,
   "metadata": {},
   "outputs": [],
   "source": []
  }
 ],
 "metadata": {
  "kernelspec": {
   "display_name": "SageMath 9.1",
   "language": "sage",
   "name": "sagemath"
  },
  "language_info": {
   "codemirror_mode": {
    "name": "ipython",
    "version": 2
   },
   "file_extension": ".py",
   "mimetype": "text/x-python",
   "name": "python",
   "nbconvert_exporter": "python",
   "pygments_lexer": "ipython2",
   "version": "2.7.15"
  }
 },
 "nbformat": 4,
 "nbformat_minor": 2
}
