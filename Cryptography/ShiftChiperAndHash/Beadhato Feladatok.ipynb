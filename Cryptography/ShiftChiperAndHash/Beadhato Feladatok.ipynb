{
 "cells": [
  {
   "cell_type": "markdown",
   "metadata": {},
   "source": [
    "# Keszitette:    Hegyesi Akos\n",
    "# Neptun kod: HSFPOJ"
   ]
  },
  {
   "cell_type": "markdown",
   "metadata": {},
   "source": [
    "# 1. Feladat"
   ]
  },
  {
   "cell_type": "markdown",
   "metadata": {},
   "source": [
    "### Az alábbi függvényt használjuk egy eltolásos titkosítási algoritmusban (shift-ciper szerű). A bemeneti szöveg és a titkos szöveg is csak az angol ábécé kisbetűit tartalmazza. Legyen f a következőképpen definiálva:\n",
    "\n",
    " \n",
    "\n",
    "### Ha k páros, akkor f(k) = ((k+2)^3) % 107.\n",
    "### Ha k páratlan, akkor f(k) = ((k+3)^2) % 111.\n",
    "\n",
    "### Ezzel úgy titkosítunk, hogy a bemeneti szöveg k-adik karakterét (k = 0, 1,…) pontosan f(k)-val toljuk el. (A szokásos módon, ha az eltolás során ’z’ után újra ’a’ jön.)\n",
    " \n",
    "\n",
    "### Valósítsuk meg ezt a titkosítást, és titkosítsuk az alábbi sztringeket:\n",
    " \n",
    "\n",
    "### “cryptography”\n",
    "### “hungary”\n",
    "### “letsgobacktoschoolsoon”\n",
    " \n",
    "\n",
    "### Az alábbi szövegtöredékről azt tudjuk, hogy egy olyan bemeneti szöveg titkosítása során jött létre, amiben szerepel egy európai főváros (csupa kisbetűs) neve. Mi lehet ez a város, és a bemeneti szöveg melyik pozícióján található az első karaktere?\n",
    " \n",
    "\n",
    "### “....nmhhlzjvtslmnbfzdwgk...”\n"
   ]
  },
  {
   "cell_type": "code",
   "execution_count": 1,
   "metadata": {},
   "outputs": [],
   "source": [
    "# karakterek kodolasa\n",
    "def indexOfLetter(c):\n",
    "    return ord(c) - 97\n",
    "def letterWithIndex(i):\n",
    "    return chr(i+97)\n",
    "def shiftChar(c, shift):\n",
    "    i = indexOfLetter(c)\n",
    "    new = (i + shift) % 26\n",
    "    return letterWithIndex(new)"
   ]
  },
  {
   "cell_type": "code",
   "execution_count": 2,
   "metadata": {},
   "outputs": [],
   "source": [
    "def shiftChiperEnc(string):\n",
    "    chiper = \"\"\n",
    "    for i in range (len(string)):\n",
    "        if i % 2 == 0:\n",
    "            chiper += shiftChar(string[i], (i + ((i+2)^3) % 107))\n",
    "        else :\n",
    "            chiper += shiftChar(string[i], (i + ((i+3)^2) % 111))\n",
    "    return chiper"
   ]
  },
  {
   "cell_type": "code",
   "execution_count": 3,
   "metadata": {},
   "outputs": [
    {
     "name": "stdout",
     "output_type": "stream",
     "text": [
      "dyhwcdxgrmgv\n",
      "ibwnjgp\n",
      "mlczpdspthslrhotvyhbdi\n",
      "tzbzbhjhjprprxzxzfhfhnpnpvxvxdfd\n"
     ]
    }
   ],
   "source": [
    "m1 = \"cryptography\"\n",
    "m2 = \"hungary\"\n",
    "m3 = \"letsgobacktoschoolsoon\"\n",
    "m4 = \"ssssssssssssssssssssssssssssssss\"\n",
    "\n",
    "c1 = shiftChiperEnc(m1)\n",
    "c2 = shiftChiperEnc(m2)\n",
    "c3 = shiftChiperEnc(m3)\n",
    "c4 = shiftChiperEnc(m4)\n",
    "\n",
    "print(c1)\n",
    "print(c2)\n",
    "print(c3)\n",
    "print(c4)"
   ]
  },
  {
   "cell_type": "code",
   "execution_count": 4,
   "metadata": {},
   "outputs": [],
   "source": [
    "def shiftChiperDec(chiper, shift = 0):\n",
    "    message = \"\"\n",
    "    for i in range (len(chiper)):\n",
    "        if i % 2 == 0:\n",
    "            j = i + shift\n",
    "            message += shiftChar(chiper[i], ((j) - ((i+2)^3) % 107) - 2*j)\n",
    "        else :\n",
    "            j = i + shift\n",
    "            message += shiftChar(chiper[i], ((j) - ((i+3)^2) % 111) - 2*j)\n",
    "    return message"
   ]
  },
  {
   "cell_type": "code",
   "execution_count": 5,
   "metadata": {},
   "outputs": [
    {
     "name": "stdout",
     "output_type": "stream",
     "text": [
      "cryptography\n",
      "hungary\n",
      "letsgobacktoschoolsoon\n",
      "ssssssssssssssssssssssssssssssss\n"
     ]
    }
   ],
   "source": [
    "m_c1 = shiftChiperDec(c1)\n",
    "m_c2 = shiftChiperDec(c2)\n",
    "m_c3 = shiftChiperDec(c3)\n",
    "m_c4 = shiftChiperDec(c4, 0)\n",
    "\n",
    "print(m_c1)\n",
    "print(m_c2)\n",
    "print(m_c3)\n",
    "print(m_c4)"
   ]
  },
  {
   "cell_type": "code",
   "execution_count": 6,
   "metadata": {},
   "outputs": [
    {
     "name": "stdout",
     "output_type": "stream",
     "text": [
      "mfyacksgcvmpowyuwjrx\n",
      "lexzbjrfbulonvxtviqw\n",
      "kdwyaiqeatknmuwsuhpv\n",
      "jcvxzhpdzsjmltvrtgou\n",
      "ibuwygocyrilksuqsfnt\n",
      "hatvxfnbxqhkjrtprems\n",
      "gzsuwemawpgjiqsoqdlr\n",
      "fyrtvdlzvofihprnpckq\n",
      "exqsuckyunehgoqmobjp\n",
      "dwprtbjxtmdgfnplnaio\n",
      "cvoqsaiwslcfemokmzhn\n",
      "bunprzhvrkbedlnjlygm\n",
      "atmoqyguqjadckmikxfl\n",
      "zslnpxftpizcbjlhjwek\n",
      "yrkmowesohybaikgivdj\n",
      "xqjlnvdrngxazhjfhuci\n",
      "wpikmucqmfwzygiegtbh\n",
      "vohjltbplevyxfhdfsag\n",
      "ungiksaokduxwegcerzf\n",
      "tmfhjrznjctwvdfbdqye\n",
      "slegiqymibsvuceacpxd\n",
      "rkdfhpxlharutbdzbowc\n",
      "qjcegowkgzqtsacyanvb\n",
      "pibdfnvjfypsrzbxzmua\n",
      "ohacemuiexorqyawyltz\n",
      "ngzbdlthdwnqpxzvxksy\n"
     ]
    }
   ],
   "source": [
    "# a keresett varosnev a 26 hosszu periodus miatt az alabbi esetek kozott fordul elo (nem talaltam meg)\n",
    "chiperText = \"nmhhlzjvtslmnbfzdwgk\"\n",
    "for k in range (26):\n",
    "    print (shiftChiperDec(chiperText, k))"
   ]
  },
  {
   "cell_type": "markdown",
   "metadata": {},
   "source": [
    "# 2.Feladat"
   ]
  },
  {
   "cell_type": "markdown",
   "metadata": {},
   "source": [
    "### Egy bemeneti szövegről a következőket tudjuk:\n",
    "\n",
    "### Az angol ábécé nagybetűiből áll (A-Z)\n",
    "### ’H’ után mindig ’U’ jön.\n",
    "### Van valami olyan 5-betűs sztring, ami csupa egyforma betűből áll, és több helyen is előfordul a szövegben.\n",
    "\n",
    "### Egy Vigenère-szerű módszerrel van titkosítva, ahol az eltolási mennyiségek (a kulcs) egy L hosszú listában vannak megadva. (Pl. ha a kulcs [1, 2, 3], akkor “AAAAAAA” képe “BCDBCDB”, vagy ha [1, 2, 3, 4, 5] a kulcs, akkor „BBBBBKRR” képe „CDEFGLTU”.)\n",
    "\n",
    "### Elfogtunk egy titkos szöveget, melyről annyit tudunk, hogy vagy 5 vagy 7 hosszúságú a kulcs. Mi a kulcs, ha a titkos szöveg az alábbi (sortörések törlendőek)?\n",
    "\n",
    "### UEAPTEGKMVQRKMVEGVBYCGKMVEGLOVWLUJVEGKMFQKKMVEGTDNUGKMVEGKMVEMWMVEGKAWE\\\n",
    "### GKMVCYJOONICWPLEMRVEGKMAEGKMVEGKMVUSSBWEGKMVOLZODEGKMVGKKMVEGXFFLDSOFBWN\\\n",
    "### MVEGKWVEGKMOTTQVITAGMVEGKMLGXKRSWZKMVEGKMVEGPKUNYEXVEGKMVEGKMNWBXNNIYBMV\\\n",
    "### EGKITOZXISMLVMVEGKUWAGKMVELXRPJHQJHBQDOXUGKRGMGKMVEGKMVEMYNVEGKMXEGKMVPE\\\n",
    "### KMVEGKMVEGVMVEGKQZBGKMVEHNVEYWTUHMJYNSNQKMVEGKODOGKMVEIK"
   ]
  },
  {
   "cell_type": "code",
   "execution_count": 7,
   "metadata": {},
   "outputs": [],
   "source": [
    "# karakterek kodolasa -> fuggvenyek ujradefinialasa\n",
    "def indexOfLetter(c):\n",
    "    return ord(c) - 65\n",
    "def letterWithIndex(i):\n",
    "    return chr(i+65)\n",
    "def shiftChar(c, shift):\n",
    "    i = indexOfLetter(c)\n",
    "    new = (i + shift) % 26\n",
    "    return letterWithIndex(new)"
   ]
  },
  {
   "cell_type": "code",
   "execution_count": 8,
   "metadata": {},
   "outputs": [],
   "source": [
    "import math\n",
    "\n",
    "# Ismetlodesek kiszurese\n",
    "def repetitionsInString(s, length = 3):\n",
    "    n = len(s)\n",
    "    ret = [(i,j) for i in range(0, n-length) for j in range(i+1, n-length+1) if s[i:(i+length)] == s[j:(j+length)] ]\n",
    "    return ret\n",
    "\n",
    "# Kulcshosszak keresese\n",
    "def guessedKeyLength(ciphertext, length = 3):\n",
    "    differences = [j-i for (i,j) in repetitionsInString(ciphertext, length)]\n",
    "    return gcd(differences)\n",
    "\n",
    "# Sage nelkul sajat fuggveny a kulcshosszak kereseshez\n",
    "def keyLengths(ciphertext, length = 3):\n",
    "    differences = [j-i for (i,j) in repetitionsInString(ciphertext, length)]\n",
    "    return differences\n",
    "\n",
    "# Kulcshosszak LNKO-ja\n",
    "def gcdOfKeys(array):\n",
    "    if len(array) > 0:\n",
    "        b=array[0]\n",
    "        for i in range (0, len(array)):\n",
    "            s=math.gcd(b,array[i])\n",
    "            b=s\n",
    "        return b"
   ]
  },
  {
   "cell_type": "code",
   "execution_count": 9,
   "metadata": {},
   "outputs": [],
   "source": [
    "# Vigenere titkosítás -> orai kod\n",
    "def vigenere(s, shiftList):\n",
    "    ret = \"\"\n",
    "    # Current position in the shiftList\n",
    "    pos = 0\n",
    "    n = len(shiftList)\n",
    "    for c in s:\n",
    "        new = shiftChar(c, shiftList[pos])\n",
    "        ret += new\n",
    "        # Add one, restart if list is over\n",
    "        pos = (pos + 1) % n\n",
    "    return ret"
   ]
  },
  {
   "cell_type": "code",
   "execution_count": 10,
   "metadata": {},
   "outputs": [],
   "source": [
    "# chiper text\n",
    "chiper = \"UEAPTEGKMVQRKMVEGVBYCGKMVEGLOVWLUJVEGKMFQKKMVEGTDNUGKMVEGKMVEMWMVEGKAWEGKMVCYJOONICWPLEMRVEGKMAEGKMVEGKMVUSSBWEGKMVOLZODEGKMVGKKMVEGXFFLDSOFBWNMVEGKWVEGKMOTTQVITAGMVEGKMLGXKRSWZKMVEGKMVEGPKUNYEXVEGKMVEGKMNWBXNNIYBMVEGKITOZXISMLVMVEGKUWAGKMVELXRPJHQJHBQDOXUGKRGMGKMVEGKMVEMYNVEGKMXEGKMVPEKMVEGKMVEGVMVEGKQZBGKMVEHNVEYWTUHMJYNSNQKMVEGKODOGKMVEIK\""
   ]
  },
  {
   "cell_type": "code",
   "execution_count": 11,
   "metadata": {},
   "outputs": [],
   "source": [
    "# 5, illetve 7 hosszu ismetlodesek keresese -> a gyakori ismetlodest fogom a tovabbiakban vizsgalni, es ebbol fogok kovetkezteteseket levonni\n",
    "rep_5 = repetitionsInString(chiper, 5)\n",
    "rep_7 = repetitionsInString(chiper, 7)"
   ]
  },
  {
   "cell_type": "code",
   "execution_count": 12,
   "metadata": {},
   "outputs": [
    {
     "name": "stdout",
     "output_type": "stream",
     "text": [
      "length of the key:  5\n"
     ]
    }
   ],
   "source": [
    "# Kulcshossz megallapitasa\n",
    "\n",
    "array_of_differences = keyLengths(chiper, 5)\n",
    "gcd_of_keys = gcdOfKeys(array_of_differences)\n",
    "\n",
    "print(\"length of the key: \", gcd_of_keys)"
   ]
  },
  {
   "cell_type": "code",
   "execution_count": 13,
   "metadata": {},
   "outputs": [
    {
     "name": "stdout",
     "output_type": "stream",
     "text": [
      "EGKMV\n",
      "EGKMV\n"
     ]
    }
   ],
   "source": [
    "# Tudjuk, hogy van egy 5 hosszu listam, amely tartalmaz [x0, x1, x2, x3, x4] kulcsokat\n",
    "# Tudjuk tovabba, \n",
    "#   hogy a szovegben H-t mindig U koveti, \n",
    "#   es van olyan 5 betus string, ami ugyan olyan betuket tartalmaz\n",
    "\n",
    "print(chiper[5:10])\n",
    "print(chiper[55:60])"
   ]
  },
  {
   "cell_type": "code",
   "execution_count": 14,
   "metadata": {},
   "outputs": [
    {
     "name": "stdout",
     "output_type": "stream",
     "text": [
      "Potencialis eltolasok:  [7, 7, 8, 11, 11, 11, 12, 13, 13, 15, 17, 20, 23]\n"
     ]
    }
   ],
   "source": [
    "# Az ismetlodo szovegreszletekben, ha feltetelezzuk, hogy ezek egy 5 ugyan olyan karakterbol allo stringbol keletkeztek,\n",
    "# abban az esetben a kulcsok kulonbseget mar meg tudjuk allapitani\n",
    "\n",
    "# pl.: Tfh, hogy az az ismetlodo szovegreszlet az EGKMV, es ez a DDDDD szoveg reszletbol keletkezett\n",
    "# igy kezi szamitassal az alabbi eltolasokat allapitottuk meg DDDDD -> L = [1, 3, 7, 9, 18] -> EGKMV\n",
    "# ezt felhasznalva az L=[0, -2, -6, -8, -17] tombbel egy brute force megoldast alkalmazunk, amely csupan 26 esetet tartalmaz\n",
    "L = [-1, -3, -7, -9, -18]\n",
    "L = [0, 2, 6, 8, 17]\n",
    "indexes = []\n",
    "\n",
    "# Brute force modszerrel vegig probalom mind a 26 lehetseges eltolast, es kigyujtom azokat az eseteket, ahol H-t U kovet\n",
    "\n",
    "for i in range (26):\n",
    "    L = [0-i, -2-i, -6-i, -8-i, -17-i]\n",
    "    text = vigenere(chiper, L)\n",
    "    for j in range(len(text)):\n",
    "        if text[j] == 'H' and (j + 1 < len(text)) and  text[j+1]  == 'U':\n",
    "            indexes.append(i)\n",
    "#            print(text)\n",
    "#    print()\n",
    "\n",
    "print('Potencialis eltolasok: ', indexes)"
   ]
  },
  {
   "cell_type": "code",
   "execution_count": 15,
   "metadata": {},
   "outputs": [
    {
     "name": "stdout",
     "output_type": "stream",
     "text": [
      "Original message:\n",
      "\n",
      "JRJWRTTTTTFETTTTTEIWRTTTTTTUVTLYDQTTTTTDFXTTTTTCKLJTTTTTTTTTTZFTTTTTHUTTTTTRLSVMCVLDNARVYTTTTTYTTTTTTTTTTJFBIUTTTTTDYIVBTTTTTVXTTTTTGMDAQBVDQJWTTTTTDTTTTTMIGZCGINPTTTTTTJVKTYQLMTTTTTTTTTTYRSCLNETTTTTTTTTTLLOGULXLKTTTTTPRDMGPQBYETTTTTBUPTTTTTYGYNYUZQFQDMVVJTTYEBTTTTTTTTTTZHUTTTTTVTTTTTERTTTTTTTTTTETTTTTXXQTTTTTUWCCNJCBFBWHUQCDTTTTTTVBDTTTTTVT\n"
     ]
    }
   ],
   "source": [
    "# Brute force megoldas utan csak nehany lehetseges eset maradt, amit meg kell vizsgalni kezzel\n",
    "# A vizsgalat uta arra a megallapitasra jutottam, hogy a TTTTT szoveg volt a csupa ugyan olyan karakterbol allo string\n",
    "# Az eredeti szoveg pedig a kovetkezo: \n",
    "\n",
    "L = L = [0 - 11, -2-11, -6-11, -8-11, -17-11]\n",
    "original_message = vigenere(chiper, L)\n",
    "\n",
    "print('Original message:\\n')\n",
    "print(original_message)"
   ]
  },
  {
   "cell_type": "markdown",
   "metadata": {},
   "source": [
    "# 3.Feladat"
   ]
  },
  {
   "cell_type": "markdown",
   "metadata": {},
   "source": [
    "### Emlékeztető: egy n elemű halmaznak binomial(n, k) darab k elemű része van (n alatt a k)\n",
    "\n",
    "### Építsünk megkülönböztetőt a következő véletlen generátorhoz. (Megkülönböztető bemenete két véletlennek szánt sztring, mely csak 0 és 1 karaktert tartalmaz, egyikül igazi véletlen, másikat az alábbi módszerrel állítottuk elő. A kimenet az, hogy megtippeljük, melyik melyik.\n",
    "\n",
    "### A seed egy n pozitív egész szám. A kimenet hossza L bit.\n",
    "\n",
    "### Minden M-re a range(n, n+L) tartományból megszámoljuk, hány olyan részhalmaza van egy M-elemű halmaznak, melynek elemszáma osztható 4-gyel, a képlet\n",
    "\n",
    "### H = binomial(M, 0) + binomial(M, 4)+ ... \n",
    "\n",
    "### A kimenetre írunk egy 0 bitet, ha if H < 2^(n-2), különben egy 1-est."
   ]
  },
  {
   "cell_type": "code",
   "execution_count": 16,
   "metadata": {},
   "outputs": [],
   "source": [
    "import random\n",
    "import scipy.special\n",
    "\n",
    "# veletlen sorozat\n",
    "def makeRandomArray (n):\n",
    "    array = \"\"\n",
    "    for i in range(n):\n",
    "        rand = random.randint(0,1)\n",
    "        array += str(rand)\n",
    "    return array\n",
    "\n",
    "# megszamoljuk, hogy hany olyan reszhalmaza van egy M-elemu halmaznak, melynek elemszama oszthato 4-gyel\n",
    "def createArrayOfBinoms(n, L, array_of_M):\n",
    "    H = []\n",
    "    for i in range(n, n+L):\n",
    "        k = 0\n",
    "        number = 0\n",
    "        while k * 4 <= i:\n",
    "            tmp = scipy.special.binom(i, k*4)\n",
    "            number += tmp\n",
    "            k = k + 1\n",
    "        H.append(number)\n",
    "        array_of_M.append(i)\n",
    "    return H\n",
    "\n",
    "# random szamok generalasa a reszhalmazok alapjan\n",
    "def generatePseudoRandomArray(H, n, arrays):\n",
    "    array = \"\"\n",
    "    for i in range(len(H)):\n",
    "        if H[i] < (2**(arrays[i]-2)):\n",
    "            array += \"0\"\n",
    "        else:\n",
    "            array += \"1\"\n",
    "    return array\n"
   ]
  },
  {
   "cell_type": "code",
   "execution_count": 17,
   "metadata": {},
   "outputs": [
    {
     "name": "stdout",
     "output_type": "stream",
     "text": [
      "61\n"
     ]
    }
   ],
   "source": [
    "L = 100\n",
    "seed = random.randint(0,L)\n",
    "array_of_M = []\n",
    "\n",
    "rand_array_1 = makeRandomArray(L)\n",
    "\n",
    "H = createArrayOfBinoms(seed, L, array_of_M)\n",
    "print(seed)\n",
    "rand_array_2 = generatePseudoRandomArray(H, seed, array_of_M)"
   ]
  },
  {
   "cell_type": "code",
   "execution_count": 18,
   "metadata": {},
   "outputs": [
    {
     "name": "stdout",
     "output_type": "stream",
     "text": [
      "0100010000110111001100100010001111100010001000010000100101001001100111101001100000000001100100000111\n",
      "0111100000111000011110000011100001111100001110110110111100111011111110101110010001000111100010010011\n",
      "\n",
      "Random sorozatban levo 0-k szama:  62\n",
      "Random sorozatban levo 1-k szama:  38\n",
      "\n",
      "Altalunk generalt pszeudo-random sorozatban levo 0-k szama:  46\n",
      "Altalunk generalt pszeudo-random sorozatban levo 1-k szama:  54\n",
      "Counter:  559\n"
     ]
    }
   ],
   "source": [
    "# random sorozatok kiirasa\n",
    "# lathato, hogy az altalunk generalt random sorozat sokkal 'blokk' szerubb felepitessel rendelkezik, azaz a 0-sok es 1-esek főleg az elejen blokkban valtjak egymas\n",
    "# lathato tovabba, hogy nagy valoszinuseg szerint az altalunk generalt sorozatban tobb 1-es talalhato -> for ciklus 1000 futtatasra\n",
    "\n",
    "print(rand_array_1)\n",
    "print(rand_array_2)\n",
    "print()\n",
    "print('Random sorozatban levo 0-k szama: ', rand_array_1.count('0'))\n",
    "print('Random sorozatban levo 1-k szama: ', rand_array_1.count('1'))\n",
    "print()\n",
    "print('Altalunk generalt pszeudo-random sorozatban levo 0-k szama: ', rand_array_2.count('0'))\n",
    "print('Altalunk generalt pszeudo-random sorozatban levo 1-k szama: ', rand_array_2.count('1'))\n",
    "\n",
    "    \n",
    "counter = 0\n",
    "for i in range (1000):\n",
    "    L = 100\n",
    "    seed = random.randint(0,L)\n",
    "    array_of_M = []\n",
    "    rand_array_1 = makeRandomArray(L)\n",
    "    H = createArrayOfBinoms(seed, L, array_of_M)\n",
    "    rand_array_2 = generatePseudoRandomArray(H, seed, array_of_M)\n",
    "    \n",
    "    if rand_array_2.count('0') < rand_array_2.count('1') and (rand_array_1.count('0') <= rand_array_1.count('1')):\n",
    "        counter += 1\n",
    "\n",
    "print('Counter: ', counter)"
   ]
  },
  {
   "cell_type": "code",
   "execution_count": 19,
   "metadata": {},
   "outputs": [],
   "source": [
    "# 1 es 100 kozott a 4 elemu reszhalmazok szama:\n",
    "for i in range (100):\n",
    "    k = 0\n",
    "    number = 0\n",
    "    while k*4 < 100:\n",
    "        number += scipy.special.binom(i, k*4)\n",
    "        k += 1\n",
    "#    print(number)"
   ]
  },
  {
   "cell_type": "code",
   "execution_count": 20,
   "metadata": {},
   "outputs": [],
   "source": [
    "# Az altalam, valoszinuleg felreertelmezes miatt rosszul megirt pszeudorandom sorozatot vizsgalva vazt lathatjuk,\n",
    "# hogy a kapott reszhalmazok szama egy olyan nagy szam, hogy emiatt 1-es bitet generalunk\n",
    "\n",
    "# Igy konnyen belathatjuk, hogy abban az esetben, ha tobb 1-es van az egyik generalt sorozatban, ugy velhetoen az a pszeudo random generalt sorozat\n",
    "# valamint onnan is felismerheto az altalunk keszitett sorozat, hogy a sorozat egy bizonyos elemetol kezdve mar csak 1-t fog tartalmazni\n"
   ]
  },
  {
   "cell_type": "markdown",
   "metadata": {},
   "source": [
    "# 4.Feladat"
   ]
  },
  {
   "cell_type": "markdown",
   "metadata": {},
   "source": [
    "### Egy hash-függvényt valósítunk meg, mely csupa angol nagybetűből álló szövegekhez rendel számszerű hash értéket.\n",
    "\n",
    "### A módszer leírásához használjunk minden betűhöz egy számértéket a következő p függvény szerint: p(’A’) = 0, p(’B’) = 1, ..., p(’Z’) = 25.\n",
    "\n",
    "### Ezután a bemeneti szövegeket átalakítjuk polinommá a következő szabály szerint:\n",
    "\n",
    "### Összeadjuk az s szöveg összes k pozíciójára a p(s[k]) * x^k tagokat. A kapott polinom legyen f(s)\n",
    "### Például a hárombetűs „XCF” szöveg polinomja 23 + 2x + 5x^2.\n",
    "\n",
    "### Ezután az f(x) polinomot elosztjuk maradékosan a g(x) = x^12 + 5x^7 + 2 polinommal. A maradék legyen r(x). Végül a számszerű hash-érték legyen: r(73).\n",
    "\n",
    "### A feladat ennek a hash-függvénynek a megvalósítása, illetve a következő „törés” implementálása:\n",
    "\n",
    "### Bemenet két szöveg, S és T. A cél az, hogy írjunk néhány karaktert T végére úgy, hogy a az így kapott T’ szöveg hashe ugyanaz legyen, mint S-é."
   ]
  },
  {
   "cell_type": "code",
   "execution_count": 21,
   "metadata": {},
   "outputs": [],
   "source": [
    "import numpy as np\n",
    "import sympy\n",
    "from sympy import *\n",
    "# seged fuggveny a karakterbol szamra kepzeshez\n",
    "def letterToNumber (c):\n",
    "    idx = -1\n",
    "    letters = ['A','B','C','D','E','F','G','H','I','J','K','L','M','N','O','P','Q','R','S','T','U','V','W','X','Y','Z']\n",
    "    for i in range (len(letters)):\n",
    "        if letters[i] == c:\n",
    "            idx = i\n",
    "    return idx\n",
    "\n",
    "# polinom keszito fuggveny\n",
    "def polinomyalMaker (string):\n",
    "    array = []\n",
    "    for i in range (len(string)):\n",
    "        array.append(letterToNumber(string[i]))\n",
    "    array.reverse()\n",
    "    f = np.poly1d(array)\n",
    "    return f\n",
    "\n",
    "# g(x) polinom elkeszitese ket fele modon is\n",
    "g = [12,0,0,0,0,5,0,0,0,0,0,0,2]\n",
    "\n",
    "def createGPolinomialWithPoly1d (g):\n",
    "    return np.poly1d(g)\n",
    "\n",
    "def createGPolinomialWithArray (g):\n",
    "    return np.array(g)\n",
    "\n",
    "# polinom osztas elvegzese\n",
    "def createPolinomyalDivision (f,g):\n",
    "    division = np.polydiv(f,g)\n",
    "    return division\n",
    "    \n",
    "# r(x) polinom generalasa\n",
    "def createRemainderPolynomial (f,g):\n",
    "    division = np.polydiv(f,g)\n",
    "    return division[1]\n",
    "\n",
    "# polinom szamitasa egy adott szammal -> HASH szamitasa\n",
    "def evaluatePolynomial (r, x):\n",
    "    return np.polyval(r, x)"
   ]
  },
  {
   "cell_type": "code",
   "execution_count": 22,
   "metadata": {},
   "outputs": [
    {
     "name": "stdout",
     "output_type": "stream",
     "text": [
      "   2\n",
      "5 x + 2 x + 23\n"
     ]
    }
   ],
   "source": [
    "# peldaban szereplo polinom megvalositasa ellenorzesre\n",
    "f = polinomyalMaker(['X', 'C', 'F'])\n",
    "print(f)"
   ]
  },
  {
   "cell_type": "code",
   "execution_count": 23,
   "metadata": {},
   "outputs": [
    {
     "name": "stdout",
     "output_type": "stream",
     "text": [
      "g(x) polinom: \n",
      "     12     7\n",
      "12 x  + 5 x + 2\n",
      "\n",
      "Maradek a polinomialis osztasbol: \n",
      "    2\n",
      "5 x + 2 x + 23\n"
     ]
    }
   ],
   "source": [
    "g = createGPolinomialWithPoly1d(g)\n",
    "print('g(x) polinom: \\n', g)\n",
    "print()\n",
    "\n",
    "division = createPolinomyalDivision(f,g)\n",
    "r = createRemainderPolynomial(f,g)\n",
    "print('Maradek a polinomialis osztasbol: \\n', r)"
   ]
  },
  {
   "cell_type": "code",
   "execution_count": 24,
   "metadata": {},
   "outputs": [
    {
     "name": "stdout",
     "output_type": "stream",
     "text": [
      "26814.0\n"
     ]
    }
   ],
   "source": [
    "# szamszeru hash ertek szamitasa\n",
    "p = evaluatePolynomial(r, 73)\n",
    "print(p)"
   ]
  },
  {
   "cell_type": "code",
   "execution_count": 25,
   "metadata": {},
   "outputs": [
    {
     "name": "stdout",
     "output_type": "stream",
     "text": [
      "S hash erteke:  10486433877.0\n",
      "T hash erteke:  142055956.0\n"
     ]
    }
   ],
   "source": [
    "# MEGOLDAS\n",
    "# adott S es T string \n",
    "# a cel, hogy irjunk nehany karaktert ugy T vegere, hogy a kapott T' hash-e egyenlo legyen S hash-evel\n",
    "S = \"KORTEFA\"\n",
    "T = \"ALMAFA\"\n",
    "\n",
    "f1 = polinomyalMaker(S)\n",
    "f2 = polinomyalMaker(T)\n",
    "\n",
    "g = createGPolinomialWithPoly1d(g)\n",
    "\n",
    "division_1 = createPolinomyalDivision(f1,g)\n",
    "division_2 = createPolinomyalDivision(f2,g)\n",
    "\n",
    "r_1 = createRemainderPolynomial(f1,g)\n",
    "r_2 = createRemainderPolynomial(f2,g)\n",
    "\n",
    "p_1 = evaluatePolynomial(r_1, 73)\n",
    "p_2 = evaluatePolynomial(r_2, 73)\n",
    "\n",
    "# hash ertekek\n",
    "print('S hash erteke: ', p_1)\n",
    "print('T hash erteke: ', p_2)"
   ]
  },
  {
   "cell_type": "code",
   "execution_count": null,
   "metadata": {},
   "outputs": [],
   "source": []
  }
 ],
 "metadata": {
  "kernelspec": {
   "display_name": "Python 3",
   "language": "python",
   "name": "python3"
  },
  "language_info": {
   "codemirror_mode": {
    "name": "ipython",
    "version": 3
   },
   "file_extension": ".py",
   "mimetype": "text/x-python",
   "name": "python",
   "nbconvert_exporter": "python",
   "pygments_lexer": "ipython3",
   "version": "3.8.3"
  }
 },
 "nbformat": 4,
 "nbformat_minor": 4
}
